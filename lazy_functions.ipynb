{
 "cells": [
  {
   "cell_type": "code",
   "execution_count": null,
   "metadata": {},
   "outputs": [
    {
     "ename": "",
     "evalue": "",
     "output_type": "error",
     "traceback": [
      "\u001b[1;31mRunning cells with 'Python 3.9.12 ('base')' requires ipykernel package.\n",
      "Run the following command to install 'ipykernel' into the Python environment. \n",
      "Command: 'conda install -n base ipykernel --update-deps --force-reinstall'"
     ]
    }
   ],
   "source": [
    "import torch\n",
    "import matplotlib.pyplot as plt\n",
    "import numpy as np\n",
    "from tqdm.auto import tqdm\n",
    "\n",
    "from torch import nn\n",
    "import torch\n",
    "import torchvision\n",
    "\n",
    "import os\n",
    "import zipfile\n",
    "\n",
    "from pathlib import Path\n",
    "\n",
    "import requests\n",
    "\n",
    "import os"
   ]
  },
  {
   "cell_type": "code",
   "execution_count": null,
   "metadata": {},
   "outputs": [],
   "source": [
    "def Training(model: torch.nn.Module, train_loader: torch.utils.data.DataLoader, loss_fn: torch.nn.Module, accuracy_fn, optimizer: torch.optim.Optimizer):\n",
    "\n",
    "  train_loss, train_acc = 0\n",
    "  device = 'cuda' if torch.cuda.is_available() else 'cpu'\n",
    "\n",
    "  for batch, (X_train, y_train) in enumerate(train_loader):\n",
    "\n",
    "    X_train, y_train, model = X_train.to(device), y_train.to(device), model.to(device)\n",
    "\n",
    "    predictions = model(X_train)\n",
    "\n",
    "    loss = loss_fn(predictions, y_train)\n",
    "    train_loss += loss\n",
    "    train_acc += accuracy_fn(y_traue = y_train, y_prediction = predictions.argmax(dim=1))\n",
    "\n",
    "    optimizer.zero_grad()\n",
    "\n",
    "    loss.backward()\n",
    "\n",
    "    optimizer.step()\n",
    "\n",
    "\n",
    "  print(f'train loss / epoch = {(train_loss/len(train_loader)):.5f}\\n train_accuracy / epoch = {(train_acc/len(train_loader)):.5f}')\n",
    "\n",
    "\n",
    "\n"
   ]
  },
  {
   "cell_type": "code",
   "execution_count": null,
   "metadata": {},
   "outputs": [],
   "source": [
    "def testing(test_loader: torch.utils.data.DataLoader,\n",
    "              model: torch.nn.Module,\n",
    "              loss_fn: torch.nn.Module,\n",
    "              accuracy_fn):\n",
    "  \n",
    "    device = 'cuda' if torch.cuda.is_available() else 'cpu'\n",
    "    test_loss, test_acc = 0, 0\n",
    "    model.eval() \n",
    "\n",
    "    with torch.inference_mode(): \n",
    "        for X_test, y_test in test_loader:\n",
    "            # Send data to GPU\n",
    "            X_test, y_test = X_test.to(device), y_test.to(device)\n",
    "            \n",
    "            # 1. Forward pass\n",
    "            test_pred = model(X_test)\n",
    "            \n",
    "            # 2. Calculate loss and accuracy\n",
    "            test_loss += loss_fn(test_pred, y_test)\n",
    "            test_acc += accuracy_fn(y_true=y_test,\n",
    "                y_pred=test_pred.argmax(dim=1) # Go from logits -> pred labels\n",
    "            )\n",
    "        \n",
    "        # Adjust metrics and print out\n",
    "        test_loss /= len(test_loader)\n",
    "        test_acc /= len(test_loader)\n",
    "        print(f\"Test loss: {test_loss:.5f} | Test accuracy: {test_acc:.2f}%\\n\")"
   ]
  },
  {
   "cell_type": "code",
   "execution_count": null,
   "metadata": {},
   "outputs": [],
   "source": [
    "def accuracy_fn(y_true, predictions):\n",
    "\n",
    "  correct = torch.eq(y_true, predictions).sum().item()\n",
    "  acc = (correct / len(predictions)) * 100\n",
    "  return acc"
   ]
  }
 ],
 "metadata": {
  "interpreter": {
   "hash": "c96f2ec3738a51773022bf8f7e80086cfe715914fc58febcce26f3cc48554f72"
  },
  "kernelspec": {
   "display_name": "Python 3.9.12 ('base')",
   "language": "python",
   "name": "python3"
  },
  "language_info": {
   "name": "python",
   "version": "3.9.12"
  },
  "orig_nbformat": 4
 },
 "nbformat": 4,
 "nbformat_minor": 2
}
